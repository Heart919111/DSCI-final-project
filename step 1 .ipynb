{
 "cells": [
  {
   "cell_type": "markdown",
   "id": "30b3202d-0202-4e6d-a0a7-5f6e41619508",
   "metadata": {},
   "source": [
    "            Who Contributes the Most? Predicting Player Engagement on a Minecraft Research Server"
   ]
  },
  {
   "cell_type": "markdown",
   "id": "f88d9732-8b8a-4e16-a8f2-cb4c98d42672",
   "metadata": {},
   "source": [
    "As video games become increasingly prominent in digital life, they are also being recognized as valuable environments for behavioral data collection. At the University of British Columbia, a research group led by Professor Frank Wood developed a Minecraft research server that records players’ in-game behavior as they navigate and interact with the virtual world. This innovative platform allows for the passive collection of rich behavioral data that can inform studies in psychology, computer science, and human-computer interaction. However, maintaining such a server infrastructure is resource-intensive, requiring careful allocation of software licenses, hardware, and human recruitment efforts. Therefore, understanding which kinds of players are most likely to contribute large amounts of gameplay data is critical for the success and sustainability of this research initiative.\n",
    "\n",
    "This project investigates whether demographic factors, particularly age, can be used to predict how much time a player will spend on the research server. The research question can be phrased as: Can a player’s age be used to predict their total number of played hours on the Minecraft research server? In this analysis, the response variable is total played hours, and the main explanatory variable is age. By identifying a relationship between these two variables, the study seeks to support more targeted recruitment efforts and more efficient resource planning.\n",
    "\n",
    "The dataset used in this project consists of 196 individual observations, each corresponding to a unique Minecraft server participant. It was provided by the UBC research group and includes a combination of demographic and behavioral features. Among the included variables are age, gender, experience level, subscription status, a hashed email identifier, and the total number of played hours. For this project, the analysis focuses exclusively on the relationship between age and played hours. Both of these variables were initially imported as character types and required conversion to numeric format. After this cleaning step, the data revealed a wide distribution of ages, ranging from as young as 9 to as old as 60. Gameplay time also varied widely, from players who barely interacted with the server to those who logged dozens of hours. No missing values were observed for the two selected variables, and any rows with invalid data types were removed. Although variables such as hashed email and subscription status were present, they were not used in the modeling process. The data was collected passively through gameplay logs, which ensures a high level of accuracy in recorded playtime. One limitation is the lack of contextual behavioral features that might offer additional explanatory power, such as login frequency or in-game achievements. Still, the dataset is suitable for investigating the research question at hand and provides a strong starting point for demographic-based modeling."
   ]
  },
  {
   "cell_type": "code",
   "execution_count": null,
   "id": "b8c0e1a6-c640-4b53-a023-1856d15a03eb",
   "metadata": {},
   "outputs": [],
   "source": []
  }
 ],
 "metadata": {
  "kernelspec": {
   "display_name": "R",
   "language": "R",
   "name": "ir"
  },
  "language_info": {
   "codemirror_mode": "r",
   "file_extension": ".r",
   "mimetype": "text/x-r-source",
   "name": "R",
   "pygments_lexer": "r",
   "version": "4.3.3"
  }
 },
 "nbformat": 4,
 "nbformat_minor": 5
}
