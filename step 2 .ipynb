{
 "cells": [
  {
   "cell_type": "markdown",
   "id": "7040da8e-1937-4435-a736-4d13935f1560",
   "metadata": {},
   "source": [
    "           Who Contributes the Most? Predicting Player Engagement on a Minecraft Research Server"
   ]
  },
  {
   "cell_type": "markdown",
   "id": "05858207-6b85-48e6-b918-a24578e13478",
   "metadata": {},
   "source": [
    "As video games become increasingly prominent in digital life, they are also being recognized as valuable environments for behavioral data collection. At the University of British Columbia, a research group led by Professor Frank Wood developed a Minecraft research server that records players’ in-game behavior as they navigate and interact with the virtual world. This innovative platform allows for the passive collection of rich behavioral data that can inform studies in psychology, computer science, and human-computer interaction. However, maintaining such a server infrastructure is resource-intensive, requiring careful allocation of software licenses, hardware, and human recruitment efforts. Therefore, understanding which kinds of players are most likely to contribute large amounts of gameplay data is critical for the success and sustainability of this research initiative.\n",
    "\n",
    "This project investigates whether demographic factors, particularly age, can be used to predict how much time a player will spend on the research server. The research question can be phrased as: Can a player’s age be used to predict their total number of played hours on the Minecraft research server? In this analysis, the response variable is total played hours, and the main explanatory variable is age. By identifying a relationship between these two variables, the study seeks to support more targeted recruitment efforts and more efficient resource planning.\n",
    "\n",
    "The dataset used in this project consists of 196 individual observations, each corresponding to a unique Minecraft server participant. It was provided by the UBC research group and includes a combination of demographic and behavioral features. Among the included variables are age, gender, experience level, subscription status, a hashed email identifier, and the total number of played hours. For this project, the analysis focuses exclusively on the relationship between age and played hours. Both of these variables were initially imported as character types and required conversion to numeric format. After this cleaning step, the data revealed a wide distribution of ages, ranging from as young as 9 to as old as 60. Gameplay time also varied widely, from players who barely interacted with the server to those who logged dozens of hours. No missing values were observed for the two selected variables, and any rows with invalid data types were removed. Although variables such as hashed email and subscription status were present, they were not used in the modeling process. The data was collected passively through gameplay logs, which ensures a high level of accuracy in recorded playtime. One limitation is the lack of contextual behavioral features that might offer additional explanatory power, such as login frequency or in-game achievements. Still, the dataset is suitable for investigating the research question at hand and provides a strong starting point for demographic-based modeling."
   ]
  },
  {
   "cell_type": "markdown",
   "id": "863b98b2-cb73-4aa3-89bb-5477586fa3a3",
   "metadata": {},
   "source": [
    "To begin the analysis, the dataset was loaded using the read_delim() function with a space delimiter, as the original file format was not CSV. Two variables were selected: Age and played_hours. These were converted from character to numeric types using mutate() and cleaned by removing any rows with missing values. This ensured that the dataset was tidy and usable for numerical modeling. After wrangling the data, exploratory data analysis was conducted to understand the general relationship between the variables. The distribution of age was relatively wide, and gameplay time showed significant variance. A scatterplot of the training set was created using ggplot2, showing the relationship between age and played hours, with a smooth regression line to illustrate the trend. A residual plot was also generated to assess model fit, examining how far the predicted values deviated from the actual ones. These plots adhered to visualization best practices, including clear axis labels, units of measurement, color-coded aesthetics, and informative titles. Insights from the plots revealed that younger players tend to log more hours, and that the relationship between age and playtime is downward-sloping, suggesting a potential predictive signal worth modeling."
   ]
  },
  {
   "cell_type": "code",
   "execution_count": null,
   "id": "a1dcd532-ed24-41d6-b673-3711940b86fa",
   "metadata": {},
   "outputs": [],
   "source": []
  }
 ],
 "metadata": {
  "kernelspec": {
   "display_name": "R",
   "language": "R",
   "name": "ir"
  },
  "language_info": {
   "codemirror_mode": "r",
   "file_extension": ".r",
   "mimetype": "text/x-r-source",
   "name": "R",
   "pygments_lexer": "r",
   "version": "4.3.3"
  }
 },
 "nbformat": 4,
 "nbformat_minor": 5
}
